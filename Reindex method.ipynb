{
 "cells": [
  {
   "cell_type": "code",
   "execution_count": 24,
   "metadata": {},
   "outputs": [
    {
     "name": "stdout",
     "output_type": "stream",
     "text": [
      "0      blue\n",
      "3    purple\n",
      "6    yellow\n",
      "dtype: object \n",
      "\n",
      "0      blue\n",
      "1      blue\n",
      "2      blue\n",
      "3    purple\n",
      "4    purple\n",
      "5    purple\n",
      "6    yellow\n",
      "7    yellow\n",
      "8    yellow\n",
      "dtype: object\n"
     ]
    }
   ],
   "source": [
    "import pandas as pd\n",
    "\n",
    "obj3= pd.Series([\"blue\",\"purple\",\"yellow\"], index= [0,3,6])\n",
    "print(obj3,\"\\n\")\n",
    "\n",
    "obj3= obj3.reindex(range(9), method=\"ffill\") # ffill values ko repet kr deta ha NAN ke jaga\n",
    "print(obj3)"
   ]
  },
  {
   "cell_type": "code",
   "execution_count": 25,
   "metadata": {},
   "outputs": [
    {
     "name": "stdout",
     "output_type": "stream",
     "text": [
      "2      blue\n",
      "3    purple\n",
      "4    purple\n",
      "5    purple\n",
      "6    yellow\n",
      "7    yellow\n",
      "8    yellow\n",
      "9       NaN\n",
      "dtype: object\n"
     ]
    }
   ],
   "source": [
    "obj3= obj3.reindex(range(2,10))\n",
    "print(obj3)"
   ]
  },
  {
   "cell_type": "markdown",
   "metadata": {},
   "source": [
    "# reindex with ffill"
   ]
  },
  {
   "cell_type": "code",
   "execution_count": 30,
   "metadata": {},
   "outputs": [
    {
     "name": "stdout",
     "output_type": "stream",
     "text": [
      "   ohio  texas  new york\n",
      "a     0      1         2\n",
      "c     3      4         5\n",
      "d     6      7         8\n"
     ]
    }
   ],
   "source": [
    "import numpy as np\n",
    "import pandas as pd\n",
    "\n",
    "states = pd.DataFrame(np.arange(9).reshape(3,3), index=[\"a\",\"c\",\"d\"], \n",
    "columns=[\"ohio\",\"texas\",\"new york\"])\n",
    "print(states)"
   ]
  },
  {
   "cell_type": "code",
   "execution_count": 31,
   "metadata": {},
   "outputs": [
    {
     "name": "stdout",
     "output_type": "stream",
     "text": [
      "   ohio  texas  new york\n",
      "a     0      1         2\n",
      "b     0      1         2\n",
      "c     3      4         5\n",
      "d     6      7         8\n"
     ]
    }
   ],
   "source": [
    "states= states.reindex([\"a\",\"b\",\"c\",\"d\"], method=\"ffill\")\n",
    "print(states)"
   ]
  },
  {
   "cell_type": "markdown",
   "metadata": {},
   "source": [
    "# columns name change using reindex"
   ]
  },
  {
   "cell_type": "code",
   "execution_count": 44,
   "metadata": {},
   "outputs": [
    {
     "name": "stdout",
     "output_type": "stream",
     "text": [
      "   ohio  texas  new york\n",
      "a     0      1         2\n",
      "c     3      4         5\n",
      "d     6      7         8 \n",
      "\n",
      "   texas  utah  new york  ohio\n",
      "a      1   NaN         2     0\n",
      "c      4   NaN         5     3\n",
      "d      7   NaN         8     6\n"
     ]
    }
   ],
   "source": [
    "states = pd.DataFrame(np.arange(9).reshape(3,3), index=[\"a\",\"c\",\"d\"], \n",
    "columns=[\"ohio\",\"texas\",\"new york\"])\n",
    "print(states,\"\\n\")\n",
    "\n",
    "states_name= [\"texas\",\"utah\",\"new york\",\"ohio\"]\n",
    "states= states.reindex(columns=states_name)  # how to asssign method=\"ffill\" function (khud krna ha)\n",
    "print(states)"
   ]
  },
  {
   "cell_type": "code",
   "execution_count": null,
   "metadata": {},
   "outputs": [],
   "source": []
  }
 ],
 "metadata": {
  "kernelspec": {
   "display_name": "Python 3",
   "language": "python",
   "name": "python3"
  },
  "language_info": {
   "codemirror_mode": {
    "name": "ipython",
    "version": 3
   },
   "file_extension": ".py",
   "mimetype": "text/x-python",
   "name": "python",
   "nbconvert_exporter": "python",
   "pygments_lexer": "ipython3",
   "version": "3.7.3"
  }
 },
 "nbformat": 4,
 "nbformat_minor": 2
}
