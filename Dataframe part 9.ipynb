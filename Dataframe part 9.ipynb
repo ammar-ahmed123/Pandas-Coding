{
 "cells": [
  {
   "cell_type": "code",
   "execution_count": 3,
   "metadata": {},
   "outputs": [
    {
     "name": "stdout",
     "output_type": "stream",
     "text": [
      "6\n",
      "       years   state  pop debt\n",
      "one     2000    ohio  1.5  NaN\n",
      "two     2001    ohio  1.7  NaN\n",
      "three   2002    ohio  3.6  NaN\n",
      "four    2001  nevada  2.4  NaN\n",
      "five    2002  nevada  2.9  NaN\n",
      "six     2003  nevada  3.2  NaN\n",
      "[0. 1. 2. 3. 4. 5.]\n",
      "       years   state  pop  debt\n",
      "one     2000    ohio  1.5   0.0\n",
      "two     2001    ohio  1.7   1.0\n",
      "three   2002    ohio  3.6   2.0\n",
      "four    2001  nevada  2.4   3.0\n",
      "five    2002  nevada  2.9   4.0\n",
      "six     2003  nevada  3.2   5.0\n"
     ]
    }
   ],
   "source": [
    "import numpy as np\n",
    "import pandas as pd\n",
    "\n",
    "state = [\"ohio\",\"ohio\",\"ohio\",\"nevada\",\"nevada\",\"nevada\",]\n",
    "data = {\"state\":state,\"years\":[2000,2001,2002,2001,2002,2003],\"pop\":[1.5,1.7,3.6,2.4,2.9,3.2]}\n",
    "\n",
    "frame = pd.DataFrame(data,columns=[\"years\",\"state\",\"pop\",\"debt\"],\n",
    "                    index = [\"one\",\"two\",\"three\",\"four\",\"five\",\"six\"])\n",
    "print(len(frame))   # finding num of rows in dataframes\n",
    "print(frame)\n",
    "rng = np.arange(6.0)  # array of range\n",
    "print(rng)\n",
    "frame[\"debt\"] = rng\n",
    "print(frame)\n"
   ]
  },
  {
   "cell_type": "code",
   "execution_count": null,
   "metadata": {},
   "outputs": [],
   "source": []
  },
  {
   "cell_type": "code",
   "execution_count": null,
   "metadata": {},
   "outputs": [],
   "source": []
  }
 ],
 "metadata": {
  "kernelspec": {
   "display_name": "Python 3",
   "language": "python",
   "name": "python3"
  },
  "language_info": {
   "codemirror_mode": {
    "name": "ipython",
    "version": 3
   },
   "file_extension": ".py",
   "mimetype": "text/x-python",
   "name": "python",
   "nbconvert_exporter": "python",
   "pygments_lexer": "ipython3",
   "version": "3.7.3"
  }
 },
 "nbformat": 4,
 "nbformat_minor": 2
}
