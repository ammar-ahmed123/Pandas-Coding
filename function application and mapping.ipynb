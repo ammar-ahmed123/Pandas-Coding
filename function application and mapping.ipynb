{
 "cells": [
  {
   "cell_type": "code",
   "execution_count": 7,
   "metadata": {},
   "outputs": [
    {
     "name": "stdout",
     "output_type": "stream",
     "text": [
      "               A         B         C\n",
      "utah   -0.568629 -0.066752  0.253018\n",
      "ohio   -0.160762  0.540860 -0.176828\n",
      "texas   0.584788 -0.121752  1.309171\n",
      "oregon -0.904331  0.387517 -0.630784\n"
     ]
    }
   ],
   "source": [
    "import numpy as np\n",
    "import pandas as pd\n",
    "frame = pd.DataFrame(np.random.randn(4,3),columns=list(\"ABC\"),index=[\"utah\",\"ohio\",\"texas\",\"oregon\"])\n",
    "print(frame)\n",
    "#print(np.abs(frame))  # convert neg to positive value"
   ]
  },
  {
   "cell_type": "code",
   "execution_count": 11,
   "metadata": {},
   "outputs": [
    {
     "name": "stdout",
     "output_type": "stream",
     "text": [
      "-0.12175177532934765\n",
      "0.5408598073123548\n",
      "0.6626115826417025\n"
     ]
    }
   ],
   "source": [
    "print(frame[\"B\"].min())\n",
    "print(frame[\"B\"].max())\n",
    "print(frame[\"B\"].max() - frame[\"B\"].min() )"
   ]
  },
  {
   "cell_type": "code",
   "execution_count": 23,
   "metadata": {},
   "outputs": [
    {
     "name": "stdout",
     "output_type": "stream",
     "text": [
      "A    1.489119\n",
      "B    0.662612\n",
      "C    1.939955\n",
      "dtype: float64\n",
      "utah      0.821647\n",
      "ohio      0.717688\n",
      "texas     1.430923\n",
      "oregon    1.291847\n",
      "dtype: float64\n"
     ]
    }
   ],
   "source": [
    "f = lambda x: x.max() - x.min()  # lambda koi variable ke jaga use hota ha jis ka naam define nhi krna chatey..\n",
    "df = frame.apply(f)\n",
    "print(df)\n",
    "df = frame.apply(f, axis=1)\n",
    "print(df)"
   ]
  },
  {
   "cell_type": "code",
   "execution_count": 31,
   "metadata": {},
   "outputs": [
    {
     "name": "stdout",
     "output_type": "stream",
     "text": [
      "            A         B         C\n",
      "min -0.904331 -0.121752 -0.630784\n",
      "max  0.584788  0.540860  1.309171 <class 'pandas.core.frame.DataFrame'>\n"
     ]
    }
   ],
   "source": [
    "def min_max(x):\n",
    "    minimum = x.min()\n",
    "    maximum = x.max()\n",
    "    return pd.Series([x.min(),x.max()], index = [\"min\", \"max\"])\n",
    "df = frame.apply(min_max)\n",
    "print(df, type(df))   # type(df) class type btata ha like frame.dataframe"
   ]
  },
  {
   "cell_type": "code",
   "execution_count": null,
   "metadata": {},
   "outputs": [],
   "source": []
  }
 ],
 "metadata": {
  "kernelspec": {
   "display_name": "Python 3",
   "language": "python",
   "name": "python3"
  },
  "language_info": {
   "codemirror_mode": {
    "name": "ipython",
    "version": 3
   },
   "file_extension": ".py",
   "mimetype": "text/x-python",
   "name": "python",
   "nbconvert_exporter": "python",
   "pygments_lexer": "ipython3",
   "version": "3.7.3"
  }
 },
 "nbformat": 4,
 "nbformat_minor": 2
}
