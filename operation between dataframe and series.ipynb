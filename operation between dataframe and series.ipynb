{
 "cells": [
  {
   "cell_type": "code",
   "execution_count": 1,
   "metadata": {},
   "outputs": [
    {
     "name": "stdout",
     "output_type": "stream",
     "text": [
      "            b     d     e\n",
      "utah      0.0   1.0   2.0\n",
      "ohio      3.0   4.0   5.0\n",
      "texas     6.0   7.0   8.0\n",
      "colorado  9.0  10.0  11.0\n"
     ]
    }
   ],
   "source": [
    "import numpy as np\n",
    "import pandas as pd\n",
    "\n",
    "frame = pd.DataFrame(np.arange(12.).reshape(4,3), columns=list(\"bde\"), index=[\"utah\",\"ohio\",\"texas\",\"colorado\"])\n",
    "print(frame)\n"
   ]
  },
  {
   "cell_type": "code",
   "execution_count": 4,
   "metadata": {},
   "outputs": [
    {
     "name": "stdout",
     "output_type": "stream",
     "text": [
      "Index(['b', 'd', 'e'], dtype='object') [1 2 3]\n",
      "            b    d    e\n",
      "utah     -1.0 -1.0 -1.0\n",
      "ohio      2.0  2.0  2.0\n",
      "texas     5.0  5.0  5.0\n",
      "colorado  8.0  8.0  8.0\n"
     ]
    }
   ],
   "source": [
    "series = pd.Series([1,2,3], index = list(\"bde\"))\n",
    "print(series.index,series.values)\n",
    "print(frame - series)"
   ]
  },
  {
   "cell_type": "code",
   "execution_count": null,
   "metadata": {},
   "outputs": [],
   "source": []
  }
 ],
 "metadata": {
  "kernelspec": {
   "display_name": "Python 3",
   "language": "python",
   "name": "python3"
  },
  "language_info": {
   "codemirror_mode": {
    "name": "ipython",
    "version": 3
   },
   "file_extension": ".py",
   "mimetype": "text/x-python",
   "name": "python",
   "nbconvert_exporter": "python",
   "pygments_lexer": "ipython3",
   "version": "3.7.3"
  }
 },
 "nbformat": 4,
 "nbformat_minor": 2
}
