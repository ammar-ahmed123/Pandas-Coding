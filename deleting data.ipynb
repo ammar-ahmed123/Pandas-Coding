{
 "cells": [
  {
   "cell_type": "code",
   "execution_count": 1,
   "metadata": {},
   "outputs": [
    {
     "name": "stdout",
     "output_type": "stream",
     "text": [
      "          one  two  three  four\n",
      "ohio        0    1      2     3\n",
      "colorado    4    5      6     7\n",
      "utah        8    9     10    11\n",
      "new york   12   13     14    15\n"
     ]
    }
   ],
   "source": [
    "import numpy as np\n",
    "import pandas as pd\n",
    "\n",
    "data_df = pd.DataFrame(np.arange(16).reshape(4,4), index=[\"ohio\",\"colorado\",\"utah\",\"new york\"], \n",
    "columns=[\"one\",\"two\",\"three\",\"four\"])\n",
    "print(data_df)"
   ]
  },
  {
   "cell_type": "code",
   "execution_count": 2,
   "metadata": {},
   "outputs": [
    {
     "name": "stdout",
     "output_type": "stream",
     "text": [
      "          one  three  four\n",
      "ohio        0      2     3\n",
      "colorado    4      6     7\n",
      "utah        8     10    11\n",
      "new york   12     14    15\n"
     ]
    }
   ],
   "source": [
    "data_df = data_df.drop(\"two\",axis=1)  # column two is deleted axis= 1\n",
    "print(data_df)"
   ]
  },
  {
   "cell_type": "code",
   "execution_count": 3,
   "metadata": {},
   "outputs": [
    {
     "name": "stdout",
     "output_type": "stream",
     "text": [
      "          one  three  four\n",
      "ohio        0      2     3\n",
      "utah        8     10    11\n",
      "new york   12     14    15\n"
     ]
    }
   ],
   "source": [
    "data_df = data_df.drop(\"colorado\",axis=0)  # row two is deleted axis= 0\n",
    "print(data_df)"
   ]
  },
  {
   "cell_type": "markdown",
   "metadata": {},
   "source": [
    "# indexing, selection and filteration "
   ]
  },
  {
   "cell_type": "code",
   "execution_count": 4,
   "metadata": {},
   "outputs": [
    {
     "name": "stdout",
     "output_type": "stream",
     "text": [
      "          one  two  three  four\n",
      "ohio        0    1      2     3\n",
      "colorado    4    5      6     7\n",
      "utah        8    9     10    11\n",
      "new york   12   13     14    15\n"
     ]
    }
   ],
   "source": [
    "data_df = pd.DataFrame(np.arange(16).reshape(4,4), index=[\"ohio\",\"colorado\",\"utah\",\"new york\"], \n",
    "columns=[\"one\",\"two\",\"three\",\"four\"])\n",
    "print(data_df)"
   ]
  },
  {
   "cell_type": "code",
   "execution_count": 5,
   "metadata": {},
   "outputs": [
    {
     "name": "stdout",
     "output_type": "stream",
     "text": [
      "          one  three\n",
      "ohio        0      2\n",
      "colorado    4      6\n",
      "utah        8     10\n",
      "new york   12     14\n"
     ]
    }
   ],
   "source": [
    "df2 = data_df[ [\"one\",\"three\"] ]\n",
    "print(df2)"
   ]
  },
  {
   "cell_type": "code",
   "execution_count": 6,
   "metadata": {},
   "outputs": [
    {
     "name": "stdout",
     "output_type": "stream",
     "text": [
      "          one  two  three  four\n",
      "ohio        0    1      2     3\n",
      "colorado    4    5      6     7\n"
     ]
    }
   ],
   "source": [
    "print(data_df[:2])  #  same like numpy"
   ]
  },
  {
   "cell_type": "code",
   "execution_count": 7,
   "metadata": {},
   "outputs": [
    {
     "name": "stdout",
     "output_type": "stream",
     "text": [
      "          one  two  three  four\n",
      "utah        8    9     10    11\n",
      "new york   12   13     14    15\n"
     ]
    }
   ],
   "source": [
    "print(data_df[2:])"
   ]
  },
  {
   "cell_type": "code",
   "execution_count": 8,
   "metadata": {},
   "outputs": [
    {
     "name": "stdout",
     "output_type": "stream",
     "text": [
      "ohio         0\n",
      "colorado     4\n",
      "utah         8\n",
      "new york    12\n",
      "Name: one, dtype: int32\n"
     ]
    }
   ],
   "source": [
    "print(data_df[\"one\"])  # dic like style for access data"
   ]
  },
  {
   "cell_type": "code",
   "execution_count": 9,
   "metadata": {},
   "outputs": [
    {
     "name": "stdout",
     "output_type": "stream",
     "text": [
      "ohio         0\n",
      "colorado     4\n",
      "utah         8\n",
      "new york    12\n",
      "Name: one, dtype: int32\n"
     ]
    }
   ],
   "source": [
    "print(data_df.one) "
   ]
  },
  {
   "cell_type": "code",
   "execution_count": 10,
   "metadata": {},
   "outputs": [
    {
     "name": "stdout",
     "output_type": "stream",
     "text": [
      "utah         8\n",
      "new york    12\n",
      "Name: one, dtype: int32\n"
     ]
    }
   ],
   "source": [
    "print(data_df[\"one\"][2:])    #filter on both row and column"
   ]
  },
  {
   "cell_type": "code",
   "execution_count": 11,
   "metadata": {},
   "outputs": [
    {
     "name": "stdout",
     "output_type": "stream",
     "text": [
      "utah         8\n",
      "new york    12\n",
      "Name: one, dtype: int32\n"
     ]
    }
   ],
   "source": [
    "print(data_df.one[2:])    #filter on both row and column"
   ]
  },
  {
   "cell_type": "code",
   "execution_count": 14,
   "metadata": {},
   "outputs": [
    {
     "name": "stdout",
     "output_type": "stream",
     "text": [
      "          one  two  three  four\n",
      "colorado    4    5      6     7\n",
      "utah        8    9     10    11\n",
      "new york   12   13     14    15\n"
     ]
    }
   ],
   "source": [
    "#conditional selection\n",
    "\n",
    "print(data_df[data_df[\"three\"] > 5])"
   ]
  },
  {
   "cell_type": "code",
   "execution_count": 15,
   "metadata": {},
   "outputs": [
    {
     "name": "stdout",
     "output_type": "stream",
     "text": [
      "colorado     6\n",
      "utah        10\n",
      "new york    14\n",
      "Name: three, dtype: int32\n"
     ]
    }
   ],
   "source": [
    "print(data_df.three[data_df[\"three\"] > 5])"
   ]
  },
  {
   "cell_type": "code",
   "execution_count": 16,
   "metadata": {},
   "outputs": [
    {
     "name": "stdout",
     "output_type": "stream",
     "text": [
      "ohio        False\n",
      "colorado     True\n",
      "utah         True\n",
      "new york     True\n",
      "Name: three, dtype: bool\n"
     ]
    }
   ],
   "source": [
    "#boolean dataframe\n",
    "\n",
    "df2 = data_df[\"three\"] > 5   # column three > 5\n",
    "print(df2)"
   ]
  },
  {
   "cell_type": "code",
   "execution_count": 17,
   "metadata": {},
   "outputs": [
    {
     "name": "stdout",
     "output_type": "stream",
     "text": [
      "          one  two  three  four\n",
      "colorado    4    5      6     7\n",
      "utah        8    9     10    11\n",
      "new york   12   13     14    15\n"
     ]
    }
   ],
   "source": [
    "print(data_df[df2])"
   ]
  },
  {
   "cell_type": "code",
   "execution_count": null,
   "metadata": {},
   "outputs": [],
   "source": []
  }
 ],
 "metadata": {
  "kernelspec": {
   "display_name": "Python 3",
   "language": "python",
   "name": "python3"
  },
  "language_info": {
   "codemirror_mode": {
    "name": "ipython",
    "version": 3
   },
   "file_extension": ".py",
   "mimetype": "text/x-python",
   "name": "python",
   "nbconvert_exporter": "python",
   "pygments_lexer": "ipython3",
   "version": "3.7.3"
  }
 },
 "nbformat": 4,
 "nbformat_minor": 2
}
