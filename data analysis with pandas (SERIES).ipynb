{
 "cells": [
  {
   "cell_type": "code",
   "execution_count": 5,
   "metadata": {},
   "outputs": [],
   "source": [
    "import pandas as pd"
   ]
  },
  {
   "cell_type": "code",
   "execution_count": 6,
   "metadata": {},
   "outputs": [
    {
     "name": "stdout",
     "output_type": "stream",
     "text": [
      "0    5\n",
      "1    4\n",
      "2    3\n",
      "3   -2\n",
      "4    1\n",
      "dtype: int64\n"
     ]
    }
   ],
   "source": [
    "obj = pd.Series([5,4,3,-2,1])  # series\n",
    "print(obj)"
   ]
  },
  {
   "cell_type": "markdown",
   "metadata": {},
   "source": [
    "#  values and index"
   ]
  },
  {
   "cell_type": "code",
   "execution_count": 7,
   "metadata": {
    "scrolled": true
   },
   "outputs": [
    {
     "name": "stdout",
     "output_type": "stream",
     "text": [
      "[ 5  4  3 -2  1]\n",
      "RangeIndex(start=0, stop=5, step=1)\n"
     ]
    }
   ],
   "source": [
    "sales = pd.Series([5,4,3,-2,1])  \n",
    "print(sales.values)\n",
    "print(sales.index)"
   ]
  },
  {
   "cell_type": "code",
   "execution_count": 8,
   "metadata": {},
   "outputs": [
    {
     "name": "stdout",
     "output_type": "stream",
     "text": [
      "a    5\n",
      "b    4\n",
      "c    3\n",
      "d   -2\n",
      "e    1\n",
      "dtype: int64\n",
      "[ 5  4  3 -2  1]\n",
      "Index(['a', 'b', 'c', 'd', 'e'], dtype='object')\n"
     ]
    }
   ],
   "source": [
    "sales = pd.Series([5,4,3,-2,1] , index = [\"a\",\"b\",\"c\",\"d\",\"e\"])\n",
    "print(sales)\n",
    "print(sales.values)\n",
    "print(sales.index)"
   ]
  },
  {
   "cell_type": "code",
   "execution_count": 9,
   "metadata": {},
   "outputs": [
    {
     "name": "stdout",
     "output_type": "stream",
     "text": [
      "jan      500\n",
      "feb      400\n",
      "march    300\n",
      "april   -200\n",
      "may      100\n",
      "Name: 5 months sales records, dtype: int64\n"
     ]
    }
   ],
   "source": [
    "sales = pd.Series([500,400,300,-200,100] , index = [\"jan\",\"feb\",\"march\",\"april\",\"may\"] , name = \"5 months sales records\")\n",
    "print(sales)"
   ]
  },
  {
   "cell_type": "markdown",
   "metadata": {},
   "source": [
    "# create a pandas series to store a canteen data, how many sandwiches sold in a week"
   ]
  },
  {
   "cell_type": "code",
   "execution_count": 10,
   "metadata": {},
   "outputs": [
    {
     "name": "stdout",
     "output_type": "stream",
     "text": [
      "mon       5\n",
      "tues     10\n",
      "wed      15\n",
      "thurs    20\n",
      "frid      5\n",
      "dtype: int64\n"
     ]
    }
   ],
   "source": [
    "sandwichesales = pd.Series([5,10,15,20,5], index = [\"mon\",\"tues\",\"wed\",\"thurs\",\"frid\"])\n",
    "print(sandwichesales)"
   ]
  },
  {
   "cell_type": "code",
   "execution_count": 11,
   "metadata": {},
   "outputs": [
    {
     "name": "stdout",
     "output_type": "stream",
     "text": [
      "10\n",
      "10\n"
     ]
    }
   ],
   "source": [
    "print(sandwichesales[1])\n",
    "print(sandwichesales[\"tues\"])"
   ]
  },
  {
   "cell_type": "code",
   "execution_count": 12,
   "metadata": {},
   "outputs": [
    {
     "name": "stdout",
     "output_type": "stream",
     "text": [
      "thurs    20\n",
      "frid      5\n",
      "dtype: int64\n",
      "tues    10\n",
      "wed     15\n",
      "dtype: int64\n"
     ]
    }
   ],
   "source": [
    "print(sandwichesales[ [3,4] ])   # for multiple index, use array\n",
    "print(sandwichesales[ [\"tues\",\"wed\"] ])"
   ]
  },
  {
   "cell_type": "markdown",
   "metadata": {},
   "source": [
    "# for providing multiple index , use array notation"
   ]
  },
  {
   "cell_type": "code",
   "execution_count": 13,
   "metadata": {},
   "outputs": [
    {
     "name": "stdout",
     "output_type": "stream",
     "text": [
      "mon      False\n",
      "tues      True\n",
      "wed       True\n",
      "thurs     True\n",
      "frid     False\n",
      "dtype: bool\n"
     ]
    }
   ],
   "source": [
    "print(sandwichesales>5)"
   ]
  },
  {
   "cell_type": "code",
   "execution_count": 14,
   "metadata": {},
   "outputs": [
    {
     "name": "stdout",
     "output_type": "stream",
     "text": [
      "tues     10\n",
      "wed      15\n",
      "thurs    20\n",
      "dtype: int64\n"
     ]
    }
   ],
   "source": [
    "print(sandwichesales[sandwichesales > 5])"
   ]
  },
  {
   "cell_type": "code",
   "execution_count": 15,
   "metadata": {},
   "outputs": [
    {
     "name": "stdout",
     "output_type": "stream",
     "text": [
      "mon      10\n",
      "tues     20\n",
      "wed      30\n",
      "thurs    40\n",
      "frid     10\n",
      "dtype: int64\n"
     ]
    }
   ],
   "source": [
    "#sandwichesales * 2   # direct print nhi hota kese variable mai store krwana hota ha\n",
    "sandwichesales = sandwichesales *2\n",
    "print(sandwichesales)"
   ]
  },
  {
   "cell_type": "code",
   "execution_count": 16,
   "metadata": {},
   "outputs": [
    {
     "name": "stdout",
     "output_type": "stream",
     "text": [
      "mon       5.0\n",
      "tues     10.0\n",
      "wed      15.0\n",
      "thurs    20.0\n",
      "frid      5.0\n",
      "dtype: float64\n"
     ]
    }
   ],
   "source": [
    "sandwichesales = sandwichesales / 2\n",
    "print(sandwichesales)"
   ]
  },
  {
   "cell_type": "markdown",
   "metadata": {},
   "source": [
    "# find index is exists"
   ]
  },
  {
   "cell_type": "code",
   "execution_count": 17,
   "metadata": {},
   "outputs": [
    {
     "data": {
      "text/plain": [
       "True"
      ]
     },
     "execution_count": 17,
     "metadata": {},
     "output_type": "execute_result"
    }
   ],
   "source": [
    "\"mon\" in sandwichesales"
   ]
  },
  {
   "cell_type": "markdown",
   "metadata": {},
   "source": [
    "# convert numpy array to pandas series"
   ]
  },
  {
   "cell_type": "code",
   "execution_count": 18,
   "metadata": {},
   "outputs": [
    {
     "name": "stdout",
     "output_type": "stream",
     "text": [
      "a    5\n",
      "b    4\n",
      "c    3\n",
      "d    2\n",
      "e    1\n",
      "dtype: int32\n"
     ]
    }
   ],
   "source": [
    "import numpy as np\n",
    "ar = np.array([5,4,3,2,1])\n",
    "ind = np.array([\"a\",\"b\",\"c\",\"d\",\"e\"])\n",
    "\n",
    "obj2 = pd.Series(ar, index = ind)\n",
    "print(obj2)"
   ]
  },
  {
   "cell_type": "markdown",
   "metadata": {},
   "source": [
    "# convert python dictionary to pandas series"
   ]
  },
  {
   "cell_type": "code",
   "execution_count": 40,
   "metadata": {},
   "outputs": [
    {
     "name": "stdout",
     "output_type": "stream",
     "text": [
      "sindh     5000\n",
      "punjab    4000\n",
      "kpk        300\n",
      "baloch    2000\n",
      "dtype: int64\n",
      "Index(['sindh', 'punjab', 'kpk', 'baloch'], dtype='object')\n"
     ]
    }
   ],
   "source": [
    "sdata = {\"sindh\":5000, \"punjab\":4000, \"kpk\":300, \"baloch\":2000}\n",
    "tax_by_state = pd.Series(sdata)\n",
    "print(tax_by_state)\n",
    "print(tax_by_state.index)"
   ]
  },
  {
   "cell_type": "code",
   "execution_count": 41,
   "metadata": {},
   "outputs": [
    {
     "name": "stdout",
     "output_type": "stream",
     "text": [
      "punjab    40000\n",
      "sindh     50000\n",
      "baloch     2000\n",
      "kpk         300\n",
      "dtype: int64\n"
     ]
    }
   ],
   "source": [
    "sdata = {\"sindh\":50000, \"punjab\":40000, \"kpk\":300, \"baloch\":2000}\n",
    "tax_by_state = pd.Series(sdata, index = [\"punjab\",\"sindh\",\"baloch\",\"kpk\"])\n",
    "print(tax_by_state)"
   ]
  },
  {
   "cell_type": "markdown",
   "metadata": {},
   "source": [
    "** sourse for series data **\n",
    "\n",
    "* direct data in the series method\n",
    "* from numpy array or list\n",
    "* from dictionary"
   ]
  },
  {
   "cell_type": "code",
   "execution_count": 42,
   "metadata": {},
   "outputs": [
    {
     "name": "stdout",
     "output_type": "stream",
     "text": [
      "punjab    40000.0\n",
      "sindh     50000.0\n",
      "baloch     2000.0\n",
      "kpk         300.0\n",
      "fata          NaN\n",
      "dtype: float64\n",
      "punjab    False\n",
      "sindh     False\n",
      "baloch    False\n",
      "kpk       False\n",
      "fata       True\n",
      "dtype: bool\n"
     ]
    }
   ],
   "source": [
    "sdata = {\"sindh\":50000, \"punjab\":40000, \"kpk\":300, \"baloch\":2000}\n",
    "tax_by_state = pd.Series(sdata, index = [\"punjab\",\"sindh\",\"baloch\",\"kpk\",\"fata\"])\n",
    "print(tax_by_state)\n",
    "print(pd.isnull(tax_by_state))"
   ]
  },
  {
   "cell_type": "code",
   "execution_count": 43,
   "metadata": {},
   "outputs": [
    {
     "name": "stdout",
     "output_type": "stream",
     "text": [
      "state names\n",
      "punjab    40000.0\n",
      "sindh     50000.0\n",
      "baloch     2000.0\n",
      "kpk         300.0\n",
      "fata          NaN\n",
      "Name: state tax paying capicity, dtype: float64\n",
      "Index(['punjab', 'sindh', 'baloch', 'kpk', 'fata'], dtype='object', name='state names')\n"
     ]
    }
   ],
   "source": [
    "tax_by_state.name =\"state tax paying capicity\" \n",
    "tax_by_state.index.name = \"state names\"\n",
    "print(tax_by_state)\n",
    "print(tax_by_state.index)"
   ]
  },
  {
   "cell_type": "code",
   "execution_count": 44,
   "metadata": {},
   "outputs": [
    {
     "data": {
      "text/plain": [
       "state names\n",
       "punjab    False\n",
       "sindh     False\n",
       "baloch    False\n",
       "kpk       False\n",
       "fata       True\n",
       "Name: state tax paying capicity, dtype: bool"
      ]
     },
     "execution_count": 44,
     "metadata": {},
     "output_type": "execute_result"
    }
   ],
   "source": [
    "# NaN mean value does not exists\n",
    "pd.isnull(tax_by_state)\n",
    "tax_by_state.isnull()"
   ]
  },
  {
   "cell_type": "markdown",
   "metadata": {},
   "source": [
    "# change indexing "
   ]
  },
  {
   "cell_type": "code",
   "execution_count": 45,
   "metadata": {},
   "outputs": [
    {
     "name": "stdout",
     "output_type": "stream",
     "text": [
      "mon    10\n",
      "tue    20\n",
      "wed    30\n",
      "thu    40\n",
      "fri    50\n",
      "sat    60\n",
      "sun     0\n",
      "dtype: int64\n",
      "m    10\n",
      "t    20\n",
      "w    30\n",
      "t    40\n",
      "f    50\n",
      "s    60\n",
      "s     0\n",
      "dtype: int64\n"
     ]
    }
   ],
   "source": [
    "sw =pd.Series([10,20,30,40,50,60,0], index =[\"mon\",\"tue\",\"wed\",\"thu\",\"fri\",\"sat\",\"sun\"])\n",
    "print(sw)\n",
    "sw.index = [\"m\",\"t\",\"w\",\"t\",\"f\",\"s\",\"s\"]\n",
    "print(sw)"
   ]
  },
  {
   "cell_type": "code",
   "execution_count": null,
   "metadata": {},
   "outputs": [],
   "source": []
  },
  {
   "cell_type": "code",
   "execution_count": null,
   "metadata": {},
   "outputs": [],
   "source": []
  }
 ],
 "metadata": {
  "kernelspec": {
   "display_name": "Python 3",
   "language": "python",
   "name": "python3"
  },
  "language_info": {
   "codemirror_mode": {
    "name": "ipython",
    "version": 3
   },
   "file_extension": ".py",
   "mimetype": "text/x-python",
   "name": "python",
   "nbconvert_exporter": "python",
   "pygments_lexer": "ipython3",
   "version": "3.7.3"
  }
 },
 "nbformat": 4,
 "nbformat_minor": 2
}
